{
 "cells": [
  {
   "cell_type": "code",
   "execution_count": 1,
   "metadata": {},
   "outputs": [
    {
     "name": "stderr",
     "output_type": "stream",
     "text": [
      "Using TensorFlow backend.\n"
     ]
    }
   ],
   "source": [
    "import pandas as pd\n",
    "from keras.models import Sequential\n",
    "from keras.layers import Dense\n",
    "from keras.layers import Dropout \n",
    "from keras.utils import np_utils"
   ]
  },
  {
   "cell_type": "markdown",
   "metadata": {},
   "source": [
    "# Load Training Data"
   ]
  },
  {
   "cell_type": "code",
   "execution_count": 2,
   "metadata": {
    "collapsed": true
   },
   "outputs": [],
   "source": [
    "df = pd.read_csv('training_data.csv')"
   ]
  },
  {
   "cell_type": "code",
   "execution_count": 3,
   "metadata": {
    "collapsed": true
   },
   "outputs": [],
   "source": [
    "feature_column_name = ['1', '2', '3', '4', '5','6','7','8','9','10','11','12','13']\n",
    "predicted_class_name = ['class']\n",
    "X_train = df[feature_column_name].values\n",
    "y_train = df[predicted_class_name].values"
   ]
  },
  {
   "cell_type": "code",
   "execution_count": 4,
   "metadata": {
    "collapsed": true
   },
   "outputs": [],
   "source": [
    "y_train = np_utils.to_categorical(y_train) "
   ]
  },
  {
   "cell_type": "markdown",
   "metadata": {},
   "source": [
    "# Load Testing Data"
   ]
  },
  {
   "cell_type": "code",
   "execution_count": 5,
   "metadata": {
    "collapsed": true
   },
   "outputs": [],
   "source": [
    "df_test = pd.read_csv('test_data.csv')"
   ]
  },
  {
   "cell_type": "code",
   "execution_count": 6,
   "metadata": {
    "collapsed": true
   },
   "outputs": [],
   "source": [
    "feature_column_name_test = ['1', '2', '3', '4', '5','6','7','8','9','10','11','12','13']\n",
    "predicted_class_name_test = ['class']\n",
    "X_test = df_test[feature_column_name_test].values\n",
    "y_test = df_test[predicted_class_name_test].values"
   ]
  },
  {
   "cell_type": "code",
   "execution_count": 7,
   "metadata": {
    "collapsed": true
   },
   "outputs": [],
   "source": [
    "y_test = np_utils.to_categorical(y_test) "
   ]
  },
  {
   "cell_type": "markdown",
   "metadata": {},
   "source": [
    "# Apply Keras Sequential Model To train The Training data (31200 x 13 matrix)"
   ]
  },
  {
   "cell_type": "code",
   "execution_count": 8,
   "metadata": {
    "collapsed": true
   },
   "outputs": [],
   "source": [
    "from keras.models import Sequential\n",
    "from keras.layers import Dense\n",
    "from keras.layers import Dropout \n",
    "from keras.utils import np_utils"
   ]
  },
  {
   "cell_type": "code",
   "execution_count": 9,
   "metadata": {
    "collapsed": true
   },
   "outputs": [],
   "source": [
    "fully_connected_model = Sequential()\n",
    "fully_connected_model.add(Dense(300, input_dim = 13, kernel_initializer='normal', activation='relu',name = 'main_input'))\n",
    "fully_connected_model.add(Dense(200, kernel_initializer='normal'))\n",
    "fully_connected_model.add(Dense(100, kernel_initializer='normal'))\n",
    "fully_connected_model.add(Dense(50, kernel_initializer='normal'))\n",
    "fully_connected_model.add(Dense(20, kernel_initializer='normal', activation='softmax'))\n",
    "fully_connected_model.compile(loss='categorical_crossentropy',optimizer ='adam', metrics=['accuracy'])"
   ]
  },
  {
   "cell_type": "code",
   "execution_count": 11,
   "metadata": {},
   "outputs": [
    {
     "name": "stdout",
     "output_type": "stream",
     "text": [
      "Epoch 1/100\n",
      "0s - loss: 1.9449 - acc: 0.3383\n",
      "Epoch 2/100\n",
      "0s - loss: 1.9408 - acc: 0.3414\n",
      "Epoch 3/100\n",
      "0s - loss: 1.9162 - acc: 0.3438\n",
      "Epoch 4/100\n",
      "0s - loss: 1.9106 - acc: 0.3475\n",
      "Epoch 5/100\n",
      "0s - loss: 1.8957 - acc: 0.3496\n",
      "Epoch 6/100\n",
      "0s - loss: 1.8818 - acc: 0.3535\n",
      "Epoch 7/100\n",
      "0s - loss: 1.8820 - acc: 0.3559\n",
      "Epoch 8/100\n",
      "0s - loss: 1.8594 - acc: 0.3601\n",
      "Epoch 9/100\n",
      "0s - loss: 1.8529 - acc: 0.3621\n",
      "Epoch 10/100\n",
      "0s - loss: 1.9039 - acc: 0.3622\n",
      "Epoch 11/100\n",
      "0s - loss: 1.8421 - acc: 0.3655\n",
      "Epoch 12/100\n",
      "0s - loss: 1.8387 - acc: 0.3673\n",
      "Epoch 13/100\n",
      "0s - loss: 1.8337 - acc: 0.3667\n",
      "Epoch 14/100\n",
      "0s - loss: 1.8281 - acc: 0.3693\n",
      "Epoch 15/100\n",
      "0s - loss: 1.8155 - acc: 0.3724\n",
      "Epoch 16/100\n",
      "0s - loss: 1.8146 - acc: 0.3725\n",
      "Epoch 17/100\n",
      "0s - loss: 1.8138 - acc: 0.3723\n",
      "Epoch 18/100\n",
      "0s - loss: 1.8081 - acc: 0.3750\n",
      "Epoch 19/100\n",
      "1s - loss: 1.8135 - acc: 0.3707\n",
      "Epoch 20/100\n",
      "0s - loss: 1.7956 - acc: 0.3795\n",
      "Epoch 21/100\n",
      "0s - loss: 1.8030 - acc: 0.3785\n",
      "Epoch 22/100\n",
      "0s - loss: 1.7963 - acc: 0.3801\n",
      "Epoch 23/100\n",
      "1s - loss: 1.7888 - acc: 0.3813\n",
      "Epoch 24/100\n",
      "0s - loss: 1.7862 - acc: 0.3824\n",
      "Epoch 25/100\n",
      "0s - loss: 1.7858 - acc: 0.3793\n",
      "Epoch 26/100\n",
      "0s - loss: 1.7881 - acc: 0.3774\n",
      "Epoch 27/100\n",
      "0s - loss: 1.7879 - acc: 0.3852\n",
      "Epoch 28/100\n",
      "0s - loss: 1.7789 - acc: 0.3820\n",
      "Epoch 29/100\n",
      "0s - loss: 1.7738 - acc: 0.3880\n",
      "Epoch 30/100\n",
      "0s - loss: 1.7749 - acc: 0.3846\n",
      "Epoch 31/100\n",
      "0s - loss: 1.7682 - acc: 0.3859\n",
      "Epoch 32/100\n",
      "1s - loss: 1.7682 - acc: 0.3877\n",
      "Epoch 33/100\n",
      "1s - loss: 1.7712 - acc: 0.3861\n",
      "Epoch 34/100\n",
      "1s - loss: 1.7688 - acc: 0.3872\n",
      "Epoch 35/100\n",
      "1s - loss: 1.7577 - acc: 0.3887\n",
      "Epoch 36/100\n",
      "1s - loss: 1.7651 - acc: 0.3873\n",
      "Epoch 37/100\n",
      "0s - loss: 1.7566 - acc: 0.3866\n",
      "Epoch 38/100\n",
      "0s - loss: 1.7824 - acc: 0.3869\n",
      "Epoch 39/100\n",
      "1s - loss: 1.7489 - acc: 0.3919\n",
      "Epoch 40/100\n",
      "0s - loss: 1.7482 - acc: 0.3929\n",
      "Epoch 41/100\n",
      "1s - loss: 1.7451 - acc: 0.3945\n",
      "Epoch 42/100\n",
      "1s - loss: 1.7470 - acc: 0.3913\n",
      "Epoch 43/100\n",
      "1s - loss: 1.7376 - acc: 0.3953\n",
      "Epoch 44/100\n",
      "1s - loss: 1.7419 - acc: 0.3937\n",
      "Epoch 45/100\n",
      "1s - loss: 1.7469 - acc: 0.3912\n",
      "Epoch 46/100\n",
      "1s - loss: 1.7389 - acc: 0.3939\n",
      "Epoch 47/100\n",
      "0s - loss: 1.7291 - acc: 0.3995\n",
      "Epoch 48/100\n",
      "1s - loss: 1.7456 - acc: 0.3943\n",
      "Epoch 49/100\n",
      "0s - loss: 1.7396 - acc: 0.3956\n",
      "Epoch 50/100\n",
      "0s - loss: 1.7375 - acc: 0.3955\n",
      "Epoch 51/100\n",
      "0s - loss: 1.7251 - acc: 0.4007\n",
      "Epoch 52/100\n",
      "0s - loss: 1.7344 - acc: 0.3956\n",
      "Epoch 53/100\n",
      "0s - loss: 1.7343 - acc: 0.3957\n",
      "Epoch 54/100\n",
      "0s - loss: 1.7371 - acc: 0.3948\n",
      "Epoch 55/100\n",
      "1s - loss: 1.7409 - acc: 0.3941\n",
      "Epoch 56/100\n",
      "0s - loss: 1.7303 - acc: 0.3963\n",
      "Epoch 57/100\n",
      "0s - loss: 1.7365 - acc: 0.3961\n",
      "Epoch 58/100\n",
      "0s - loss: 1.7209 - acc: 0.4000\n",
      "Epoch 59/100\n",
      "0s - loss: 1.7320 - acc: 0.3982\n",
      "Epoch 60/100\n",
      "0s - loss: 1.7232 - acc: 0.4000\n",
      "Epoch 61/100\n",
      "1s - loss: 1.7193 - acc: 0.4021\n",
      "Epoch 62/100\n",
      "1s - loss: 1.7226 - acc: 0.3998\n",
      "Epoch 63/100\n",
      "0s - loss: 1.7227 - acc: 0.3993\n",
      "Epoch 64/100\n",
      "0s - loss: 1.7258 - acc: 0.3991\n",
      "Epoch 65/100\n",
      "0s - loss: 1.7112 - acc: 0.4014\n",
      "Epoch 66/100\n",
      "0s - loss: 1.7172 - acc: 0.4013\n",
      "Epoch 67/100\n",
      "0s - loss: 1.7193 - acc: 0.3992\n",
      "Epoch 68/100\n",
      "0s - loss: 1.7165 - acc: 0.4026\n",
      "Epoch 69/100\n",
      "0s - loss: 1.7147 - acc: 0.4013\n",
      "Epoch 70/100\n",
      "0s - loss: 1.7110 - acc: 0.4046\n",
      "Epoch 71/100\n",
      "1s - loss: 1.7058 - acc: 0.4072\n",
      "Epoch 72/100\n",
      "1s - loss: 1.7126 - acc: 0.4022\n",
      "Epoch 73/100\n",
      "0s - loss: 1.7075 - acc: 0.4067\n",
      "Epoch 74/100\n",
      "1s - loss: 1.7128 - acc: 0.4017\n",
      "Epoch 75/100\n",
      "1s - loss: 1.7172 - acc: 0.3998\n",
      "Epoch 76/100\n",
      "1s - loss: 1.7149 - acc: 0.4029\n",
      "Epoch 77/100\n",
      "1s - loss: 1.7073 - acc: 0.4055\n",
      "Epoch 78/100\n",
      "1s - loss: 1.6986 - acc: 0.4082\n",
      "Epoch 79/100\n",
      "1s - loss: 1.7037 - acc: 0.4047\n",
      "Epoch 80/100\n",
      "1s - loss: 1.7111 - acc: 0.4021\n",
      "Epoch 81/100\n",
      "1s - loss: 1.7078 - acc: 0.4037\n",
      "Epoch 82/100\n",
      "1s - loss: 1.7167 - acc: 0.4046\n",
      "Epoch 83/100\n",
      "0s - loss: 1.6985 - acc: 0.4059\n",
      "Epoch 84/100\n",
      "0s - loss: 1.6998 - acc: 0.4082\n",
      "Epoch 85/100\n",
      "0s - loss: 1.7043 - acc: 0.4041\n",
      "Epoch 86/100\n",
      "0s - loss: 1.6930 - acc: 0.4074\n",
      "Epoch 87/100\n",
      "0s - loss: 1.6954 - acc: 0.4048\n",
      "Epoch 88/100\n",
      "0s - loss: 1.7006 - acc: 0.4084\n",
      "Epoch 89/100\n",
      "0s - loss: 1.6949 - acc: 0.4096\n",
      "Epoch 90/100\n",
      "0s - loss: 1.6999 - acc: 0.4059\n",
      "Epoch 91/100\n",
      "0s - loss: 1.6901 - acc: 0.4086\n",
      "Epoch 92/100\n",
      "0s - loss: 1.6899 - acc: 0.4108\n",
      "Epoch 93/100\n",
      "1s - loss: 1.6976 - acc: 0.4070\n",
      "Epoch 94/100\n",
      "1s - loss: 1.6862 - acc: 0.4108\n",
      "Epoch 95/100\n",
      "0s - loss: 1.6947 - acc: 0.4077\n",
      "Epoch 96/100\n",
      "0s - loss: 1.6911 - acc: 0.4096\n",
      "Epoch 97/100\n",
      "0s - loss: 1.6831 - acc: 0.4122\n",
      "Epoch 98/100\n",
      "0s - loss: 1.6926 - acc: 0.4119\n",
      "Epoch 99/100\n",
      "1s - loss: 1.7231 - acc: 0.4021\n",
      "Epoch 100/100\n",
      "1s - loss: 1.6865 - acc: 0.4119\n"
     ]
    },
    {
     "data": {
      "text/plain": [
       "<keras.callbacks.History at 0x1f012935fd0>"
      ]
     },
     "execution_count": 11,
     "metadata": {},
     "output_type": "execute_result"
    }
   ],
   "source": [
    "fully_connected_model.fit(X_train, y_train, epochs =100, batch_size=200,verbose=2)"
   ]
  },
  {
   "cell_type": "markdown",
   "metadata": {},
   "source": [
    "# Testing the Training Data(31200 x 13 matrix )"
   ]
  },
  {
   "cell_type": "code",
   "execution_count": 12,
   "metadata": {},
   "outputs": [
    {
     "name": "stdout",
     "output_type": "stream",
     "text": [
      "42.2243589744%\n"
     ]
    }
   ],
   "source": [
    "losses, accuracy = fully_connected_model.evaluate(X_train, y_train, verbose=2)\n",
    "print(str(accuracy*100)+'%')"
   ]
  },
  {
   "cell_type": "markdown",
   "metadata": {},
   "source": [
    "# Testing the Test Data (31200 x 13 matrix)"
   ]
  },
  {
   "cell_type": "code",
   "execution_count": 13,
   "metadata": {},
   "outputs": [
    {
     "name": "stdout",
     "output_type": "stream",
     "text": [
      "27.7307692308%\n"
     ]
    }
   ],
   "source": [
    "losses, accuracy = fully_connected_model.evaluate(X_test, y_test, verbose=2)\n",
    "print(str(accuracy*100)+'%')"
   ]
  },
  {
   "cell_type": "markdown",
   "metadata": {},
   "source": [
    "# Apply Keras Sequential Model To train The Training data (480 x 845 matrix)"
   ]
  },
  {
   "cell_type": "markdown",
   "metadata": {},
   "source": [
    "# Data Frame Shape Change"
   ]
  },
  {
   "cell_type": "code",
   "execution_count": 14,
   "metadata": {
    "collapsed": true
   },
   "outputs": [],
   "source": [
    "X_train = X_train.reshape(480, 845)"
   ]
  },
  {
   "cell_type": "code",
   "execution_count": 15,
   "metadata": {
    "collapsed": true
   },
   "outputs": [],
   "source": [
    "y_train_flatten = []\n",
    "i=0\n",
    "for j in range(0, 480):\n",
    "    y_train_flatten.append(i)\n",
    "    if len(y_train_flatten)%24 == 0:\n",
    "        i=i+1"
   ]
  },
  {
   "cell_type": "code",
   "execution_count": 16,
   "metadata": {
    "collapsed": true
   },
   "outputs": [],
   "source": [
    "y_train = np_utils.to_categorical(y_train_flatten)"
   ]
  },
  {
   "cell_type": "code",
   "execution_count": 17,
   "metadata": {
    "collapsed": true
   },
   "outputs": [],
   "source": [
    "X_test = X_test.reshape(120, 845)"
   ]
  },
  {
   "cell_type": "code",
   "execution_count": 18,
   "metadata": {
    "collapsed": true
   },
   "outputs": [],
   "source": [
    "y_test_flatten = []\n",
    "i=0\n",
    "for j in range(0, 120):\n",
    "    y_test_flatten.append(i)\n",
    "    if len(y_test_flatten)%6 == 0:\n",
    "        i=i+1\n",
    "        \n",
    "                #y_test_flatten.append(i)"
   ]
  },
  {
   "cell_type": "code",
   "execution_count": 19,
   "metadata": {
    "collapsed": true
   },
   "outputs": [],
   "source": [
    "y_test = np_utils.to_categorical(y_test_flatten)"
   ]
  },
  {
   "cell_type": "code",
   "execution_count": 20,
   "metadata": {
    "collapsed": true
   },
   "outputs": [],
   "source": [
    "fully_connected_model = Sequential()\n",
    "fully_connected_model.add(Dense(300, input_dim = 845, kernel_initializer='normal', activation='relu',name = 'main_input'))\n",
    "fully_connected_model.add(Dense(200, kernel_initializer='normal'))\n",
    "fully_connected_model.add(Dense(100, kernel_initializer='normal'))\n",
    "fully_connected_model.add(Dense(50, kernel_initializer='normal'))\n",
    "fully_connected_model.add(Dense(20, kernel_initializer='normal', activation='softmax'))\n",
    "fully_connected_model.compile(loss='categorical_crossentropy',optimizer ='adam', metrics=['accuracy'])"
   ]
  },
  {
   "cell_type": "code",
   "execution_count": 23,
   "metadata": {},
   "outputs": [
    {
     "name": "stdout",
     "output_type": "stream",
     "text": [
      "Epoch 1/10\n",
      "0s - loss: 0.1344 - acc: 0.9792\n",
      "Epoch 2/10\n",
      "0s - loss: 0.0967 - acc: 0.9854\n",
      "Epoch 3/10\n",
      "0s - loss: 0.0654 - acc: 1.0000\n",
      "Epoch 4/10\n",
      "0s - loss: 0.0481 - acc: 1.0000\n",
      "Epoch 5/10\n",
      "0s - loss: 0.0309 - acc: 1.0000\n",
      "Epoch 6/10\n",
      "0s - loss: 0.0267 - acc: 1.0000\n",
      "Epoch 7/10\n",
      "0s - loss: 0.0189 - acc: 1.0000\n",
      "Epoch 8/10\n",
      "0s - loss: 0.0137 - acc: 1.0000\n",
      "Epoch 9/10\n",
      "0s - loss: 0.0121 - acc: 1.0000\n",
      "Epoch 10/10\n",
      "0s - loss: 0.0097 - acc: 1.0000\n"
     ]
    },
    {
     "data": {
      "text/plain": [
       "<keras.callbacks.History at 0x1f013d89940>"
      ]
     },
     "execution_count": 23,
     "metadata": {},
     "output_type": "execute_result"
    }
   ],
   "source": [
    "fully_connected_model.fit(X_train, y_train, epochs =10, batch_size=200,verbose=2)"
   ]
  },
  {
   "cell_type": "markdown",
   "metadata": {},
   "source": [
    "# Testing the Training Data( 480 x 845 matrix )"
   ]
  },
  {
   "cell_type": "code",
   "execution_count": 24,
   "metadata": {},
   "outputs": [
    {
     "name": "stdout",
     "output_type": "stream",
     "text": [
      "100.0%\n"
     ]
    }
   ],
   "source": [
    "losses, accuracy = fully_connected_model.evaluate(X_train, y_train, verbose=2)\n",
    "print(str(accuracy*100)+'%')"
   ]
  },
  {
   "cell_type": "markdown",
   "metadata": {},
   "source": [
    "# Testing the Test Data (480 x 845 matrix )"
   ]
  },
  {
   "cell_type": "code",
   "execution_count": 25,
   "metadata": {},
   "outputs": [
    {
     "name": "stdout",
     "output_type": "stream",
     "text": [
      "80.8333337307%\n"
     ]
    }
   ],
   "source": [
    "losses, accuracy = fully_connected_model.evaluate(X_test, y_test, verbose=2)\n",
    "print(str(accuracy*100)+'%')"
   ]
  },
  {
   "cell_type": "markdown",
   "metadata": {},
   "source": [
    "# Apply Keras Convolutional Neural Network Model To train The Training data (31200 x 13 matrix)"
   ]
  },
  {
   "cell_type": "markdown",
   "metadata": {},
   "source": [
    "# Data Frame Shape Change"
   ]
  },
  {
   "cell_type": "code",
   "execution_count": 26,
   "metadata": {},
   "outputs": [
    {
     "data": {
      "text/plain": [
       "(31200, 13)"
      ]
     },
     "execution_count": 26,
     "metadata": {},
     "output_type": "execute_result"
    }
   ],
   "source": [
    "X_train = X_train.reshape(31200,13)\n",
    "X_train.shape"
   ]
  },
  {
   "cell_type": "code",
   "execution_count": 27,
   "metadata": {
    "collapsed": true
   },
   "outputs": [],
   "source": [
    "X_train = X_train.reshape(480, 65, 13 , 1).astype('float32')\n",
    "X_test = X_test.reshape(120, 65, 13 , 1).astype('float32')"
   ]
  },
  {
   "cell_type": "code",
   "execution_count": 28,
   "metadata": {},
   "outputs": [
    {
     "data": {
      "text/plain": [
       "(480, 20)"
      ]
     },
     "execution_count": 28,
     "metadata": {},
     "output_type": "execute_result"
    }
   ],
   "source": [
    "y_train.shape"
   ]
  },
  {
   "cell_type": "code",
   "execution_count": 29,
   "metadata": {
    "collapsed": true
   },
   "outputs": [],
   "source": [
    "from keras.layers import Dense, Dropout, Activation, Flatten\n",
    "from keras.layers import Conv1D, Conv2D, MaxPooling2D,  MaxPooling1D\n",
    "from keras.utils import np_utils\n",
    "from keras import backend as K"
   ]
  },
  {
   "cell_type": "code",
   "execution_count": 30,
   "metadata": {
    "collapsed": true
   },
   "outputs": [],
   "source": [
    "kernel_size = (3, 3)\n",
    "pool_size = (63, 11)\n",
    "num_classes = 20\n",
    "\n",
    "cnn_model = Sequential()\n",
    "cnn_model.add(Conv2D(693, kernel_size, padding='valid', input_shape=(65, 13, 1)))\n",
    "cnn_model.add(Activation('relu'))\n",
    "cnn_model.add(MaxPooling2D(pool_size=pool_size))\n",
    "cnn_model.add(Dropout(0.2))\n",
    "cnn_model.add(Flatten())\n",
    "# cnn_model.add(Dense(300))\n",
    "# cnn_model.add(Dense(200))\n",
    "# cnn_model.add(Dense(100))\n",
    "#cnn_model.add(Dense(50))\n",
    "#-------------------------------------------------#\n",
    "# kernel_size = (3, 3)\n",
    "# pool_size = (61, 9)\n",
    "# cnn_model.add(Conv2D(549, kernel_size, padding='valid', input_shape=(63, 11, 1)))\n",
    "# cnn_model.add(Activation('relu'))\n",
    "# cnn_model.add(MaxPooling2D(pool_size=pool_size))\n",
    "# cnn_model.add(Dropout(0.2))\n",
    "# cnn_model.add(Flatten())\n",
    "#-------------------------------------------------#\n",
    "cnn_model.add(Activation('relu'))\n",
    "cnn_model.add(Dense(num_classes))\n",
    "cnn_model.add(Activation('softmax'))\n",
    "\n"
   ]
  },
  {
   "cell_type": "code",
   "execution_count": 31,
   "metadata": {
    "collapsed": true
   },
   "outputs": [],
   "source": [
    "cnn_model.compile(loss='categorical_crossentropy', optimizer='adam', metrics=['accuracy'])"
   ]
  },
  {
   "cell_type": "code",
   "execution_count": 33,
   "metadata": {},
   "outputs": [
    {
     "name": "stdout",
     "output_type": "stream",
     "text": [
      "Epoch 1/100\n",
      "0s - loss: 3.1761 - acc: 0.1833\n",
      "Epoch 2/100\n",
      "0s - loss: 3.0186 - acc: 0.1937\n",
      "Epoch 3/100\n",
      "0s - loss: 2.9905 - acc: 0.1917\n",
      "Epoch 4/100\n",
      "0s - loss: 3.0026 - acc: 0.2000\n",
      "Epoch 5/100\n",
      "0s - loss: 2.8420 - acc: 0.2229\n",
      "Epoch 6/100\n",
      "0s - loss: 2.8465 - acc: 0.2333\n",
      "Epoch 7/100\n",
      "0s - loss: 2.6512 - acc: 0.2354\n",
      "Epoch 8/100\n",
      "0s - loss: 2.5982 - acc: 0.2687\n",
      "Epoch 9/100\n",
      "0s - loss: 2.6631 - acc: 0.2521\n",
      "Epoch 10/100\n",
      "0s - loss: 2.6667 - acc: 0.2458\n",
      "Epoch 11/100\n",
      "0s - loss: 2.4548 - acc: 0.2979\n",
      "Epoch 12/100\n",
      "0s - loss: 2.5363 - acc: 0.2521\n",
      "Epoch 13/100\n",
      "0s - loss: 2.5776 - acc: 0.2583\n",
      "Epoch 14/100\n",
      "0s - loss: 2.2968 - acc: 0.3042\n",
      "Epoch 15/100\n",
      "0s - loss: 2.3772 - acc: 0.2937\n",
      "Epoch 16/100\n",
      "0s - loss: 2.3846 - acc: 0.2812\n",
      "Epoch 17/100\n",
      "0s - loss: 2.2783 - acc: 0.3104\n",
      "Epoch 18/100\n",
      "0s - loss: 2.3015 - acc: 0.2792\n",
      "Epoch 19/100\n",
      "0s - loss: 2.3152 - acc: 0.3188\n",
      "Epoch 20/100\n",
      "0s - loss: 2.1609 - acc: 0.3625\n",
      "Epoch 21/100\n",
      "0s - loss: 2.1676 - acc: 0.3375\n",
      "Epoch 22/100\n",
      "0s - loss: 2.1898 - acc: 0.3125\n",
      "Epoch 23/100\n",
      "0s - loss: 2.1698 - acc: 0.3250\n",
      "Epoch 24/100\n",
      "0s - loss: 2.0629 - acc: 0.3562\n",
      "Epoch 25/100\n",
      "0s - loss: 2.1125 - acc: 0.3667\n",
      "Epoch 26/100\n",
      "0s - loss: 2.1294 - acc: 0.3521\n",
      "Epoch 27/100\n",
      "0s - loss: 2.0472 - acc: 0.4021\n",
      "Epoch 28/100\n",
      "0s - loss: 1.9803 - acc: 0.4042\n",
      "Epoch 29/100\n",
      "0s - loss: 1.9359 - acc: 0.4062\n",
      "Epoch 30/100\n",
      "0s - loss: 1.8904 - acc: 0.3979\n",
      "Epoch 31/100\n",
      "0s - loss: 2.0037 - acc: 0.3750\n",
      "Epoch 32/100\n",
      "0s - loss: 1.9431 - acc: 0.3979\n",
      "Epoch 33/100\n",
      "0s - loss: 1.8995 - acc: 0.4250\n",
      "Epoch 34/100\n",
      "0s - loss: 1.8880 - acc: 0.4396\n",
      "Epoch 35/100\n",
      "0s - loss: 1.8723 - acc: 0.4000\n",
      "Epoch 36/100\n",
      "0s - loss: 1.8738 - acc: 0.4271\n",
      "Epoch 37/100\n",
      "0s - loss: 1.8586 - acc: 0.4354\n",
      "Epoch 38/100\n",
      "0s - loss: 1.7547 - acc: 0.4583\n",
      "Epoch 39/100\n",
      "0s - loss: 1.9323 - acc: 0.3833\n",
      "Epoch 40/100\n",
      "0s - loss: 1.9416 - acc: 0.3875\n",
      "Epoch 41/100\n",
      "0s - loss: 1.8137 - acc: 0.4312\n",
      "Epoch 42/100\n",
      "0s - loss: 1.8624 - acc: 0.4542\n",
      "Epoch 43/100\n",
      "0s - loss: 1.8129 - acc: 0.4354\n",
      "Epoch 44/100\n",
      "0s - loss: 1.8170 - acc: 0.4375\n",
      "Epoch 45/100\n",
      "0s - loss: 1.7319 - acc: 0.4562\n",
      "Epoch 46/100\n",
      "0s - loss: 1.7740 - acc: 0.4604\n",
      "Epoch 47/100\n",
      "0s - loss: 1.7424 - acc: 0.4375\n",
      "Epoch 48/100\n",
      "0s - loss: 1.7206 - acc: 0.4625\n",
      "Epoch 49/100\n",
      "0s - loss: 1.6969 - acc: 0.4812\n",
      "Epoch 50/100\n",
      "0s - loss: 1.6993 - acc: 0.4667\n",
      "Epoch 51/100\n",
      "0s - loss: 1.6323 - acc: 0.4875\n",
      "Epoch 52/100\n",
      "0s - loss: 1.7680 - acc: 0.4375\n",
      "Epoch 53/100\n",
      "0s - loss: 1.6368 - acc: 0.4813\n",
      "Epoch 54/100\n",
      "0s - loss: 1.7020 - acc: 0.4646\n",
      "Epoch 55/100\n",
      "0s - loss: 1.7269 - acc: 0.4625\n",
      "Epoch 56/100\n",
      "0s - loss: 1.6862 - acc: 0.4917\n",
      "Epoch 57/100\n",
      "0s - loss: 1.6608 - acc: 0.5000\n",
      "Epoch 58/100\n",
      "0s - loss: 1.6261 - acc: 0.4625\n",
      "Epoch 59/100\n",
      "0s - loss: 1.6205 - acc: 0.4979\n",
      "Epoch 60/100\n",
      "0s - loss: 1.5221 - acc: 0.5271\n",
      "Epoch 61/100\n",
      "0s - loss: 1.6141 - acc: 0.4792\n",
      "Epoch 62/100\n",
      "0s - loss: 1.6631 - acc: 0.4521\n",
      "Epoch 63/100\n",
      "0s - loss: 1.6105 - acc: 0.5187\n",
      "Epoch 64/100\n",
      "0s - loss: 1.5361 - acc: 0.5417\n",
      "Epoch 65/100\n",
      "0s - loss: 1.6507 - acc: 0.4875\n",
      "Epoch 66/100\n",
      "0s - loss: 1.4460 - acc: 0.5187\n",
      "Epoch 67/100\n",
      "0s - loss: 1.4961 - acc: 0.5333\n",
      "Epoch 68/100\n",
      "0s - loss: 1.4831 - acc: 0.5146\n",
      "Epoch 69/100\n",
      "0s - loss: 1.5275 - acc: 0.5167\n",
      "Epoch 70/100\n",
      "0s - loss: 1.5853 - acc: 0.5042\n",
      "Epoch 71/100\n",
      "0s - loss: 1.4820 - acc: 0.5354\n",
      "Epoch 72/100\n",
      "0s - loss: 1.5660 - acc: 0.5083\n",
      "Epoch 73/100\n",
      "0s - loss: 1.5440 - acc: 0.4979\n",
      "Epoch 74/100\n",
      "0s - loss: 1.5110 - acc: 0.5188\n",
      "Epoch 75/100\n",
      "0s - loss: 1.4564 - acc: 0.5542\n",
      "Epoch 76/100\n",
      "0s - loss: 1.4574 - acc: 0.5500\n",
      "Epoch 77/100\n",
      "0s - loss: 1.5423 - acc: 0.4958\n",
      "Epoch 78/100\n",
      "0s - loss: 1.4588 - acc: 0.5271\n",
      "Epoch 79/100\n",
      "0s - loss: 1.4542 - acc: 0.5604\n",
      "Epoch 80/100\n",
      "0s - loss: 1.5329 - acc: 0.5271\n",
      "Epoch 81/100\n",
      "0s - loss: 1.4666 - acc: 0.5583\n",
      "Epoch 82/100\n",
      "0s - loss: 1.5320 - acc: 0.4979\n",
      "Epoch 83/100\n",
      "0s - loss: 1.4039 - acc: 0.5667\n",
      "Epoch 84/100\n",
      "0s - loss: 1.3832 - acc: 0.5583\n",
      "Epoch 85/100\n",
      "0s - loss: 1.4617 - acc: 0.5521\n",
      "Epoch 86/100\n",
      "0s - loss: 1.4117 - acc: 0.5500\n",
      "Epoch 87/100\n",
      "0s - loss: 1.3918 - acc: 0.5437\n",
      "Epoch 88/100\n",
      "0s - loss: 1.4030 - acc: 0.5604\n",
      "Epoch 89/100\n",
      "0s - loss: 1.4602 - acc: 0.5417\n",
      "Epoch 90/100\n",
      "0s - loss: 1.3953 - acc: 0.5562\n",
      "Epoch 91/100\n",
      "0s - loss: 1.4788 - acc: 0.5187\n",
      "Epoch 92/100\n",
      "0s - loss: 1.4189 - acc: 0.5417\n",
      "Epoch 93/100\n",
      "0s - loss: 1.3942 - acc: 0.5521\n",
      "Epoch 94/100\n",
      "0s - loss: 1.3847 - acc: 0.5437\n",
      "Epoch 95/100\n",
      "0s - loss: 1.3633 - acc: 0.5583\n",
      "Epoch 96/100\n",
      "0s - loss: 1.4349 - acc: 0.5521\n",
      "Epoch 97/100\n",
      "0s - loss: 1.3416 - acc: 0.5771\n",
      "Epoch 98/100\n",
      "0s - loss: 1.3914 - acc: 0.5604\n",
      "Epoch 99/100\n",
      "0s - loss: 1.4052 - acc: 0.5708\n",
      "Epoch 100/100\n",
      "0s - loss: 1.3314 - acc: 0.5917\n"
     ]
    },
    {
     "data": {
      "text/plain": [
       "<keras.callbacks.History at 0x1f01367b6d8>"
      ]
     },
     "execution_count": 33,
     "metadata": {},
     "output_type": "execute_result"
    }
   ],
   "source": [
    "cnn_model.fit(X_train, y_train, epochs=100, batch_size=200, verbose=2)"
   ]
  },
  {
   "cell_type": "markdown",
   "metadata": {},
   "source": [
    "# Testing the Training Data( 31200 x 13 matrix )"
   ]
  },
  {
   "cell_type": "code",
   "execution_count": 34,
   "metadata": {},
   "outputs": [
    {
     "name": "stdout",
     "output_type": "stream",
     "text": [
      "90.4166666667%\n"
     ]
    }
   ],
   "source": [
    "losses, accuracy = cnn_model.evaluate(X_train, y_train, verbose=2)\n",
    "print(str(accuracy*100)+'%')"
   ]
  },
  {
   "cell_type": "code",
   "execution_count": 35,
   "metadata": {},
   "outputs": [
    {
     "name": "stdout",
     "output_type": "stream",
     "text": [
      "66.6666674614%\n"
     ]
    }
   ],
   "source": [
    "losses, accuracy = cnn_model.evaluate(X_test, y_test, verbose=2)\n",
    "print(str(accuracy*100)+'%')"
   ]
  },
  {
   "cell_type": "markdown",
   "metadata": {
    "collapsed": true
   },
   "source": [
    "# Apply Keras 1D Convolutional Neural Network Model To train The Training data (31200 x 13 matrix)"
   ]
  },
  {
   "cell_type": "code",
   "execution_count": 37,
   "metadata": {
    "collapsed": true
   },
   "outputs": [],
   "source": [
    "import numpy as np\n",
    "df = pd.read_csv('training_data.csv')\n",
    "feature_column_name = ['1', '2', '3', '4', '5','6','7','8','9','10','11','12','13']\n",
    "predicted_class_name = ['class']\n",
    "X_train = df[feature_column_name].values\n",
    "y_train = df[predicted_class_name].values"
   ]
  },
  {
   "cell_type": "code",
   "execution_count": 38,
   "metadata": {
    "collapsed": true
   },
   "outputs": [],
   "source": [
    "y_train_flatten = []\n",
    "i=0\n",
    "for j in range(0, 480):\n",
    "    y_train_flatten.append(i)\n",
    "    if len(y_train_flatten)%24 == 0:\n",
    "        i=i+1"
   ]
  },
  {
   "cell_type": "code",
   "execution_count": 39,
   "metadata": {
    "collapsed": true
   },
   "outputs": [],
   "source": [
    "y_train = np_utils.to_categorical(y_train_flatten) "
   ]
  },
  {
   "cell_type": "code",
   "execution_count": 40,
   "metadata": {},
   "outputs": [
    {
     "data": {
      "text/plain": [
       "(31200, 13)"
      ]
     },
     "execution_count": 40,
     "metadata": {},
     "output_type": "execute_result"
    }
   ],
   "source": [
    "X_train.shape"
   ]
  },
  {
   "cell_type": "code",
   "execution_count": 41,
   "metadata": {
    "collapsed": true
   },
   "outputs": [],
   "source": [
    "X_train = X_train.reshape(1, 480, 845)"
   ]
  },
  {
   "cell_type": "code",
   "execution_count": 42,
   "metadata": {
    "collapsed": true
   },
   "outputs": [],
   "source": [
    "y_train = y_train.reshape(1, 480, 20) "
   ]
  },
  {
   "cell_type": "code",
   "execution_count": 43,
   "metadata": {},
   "outputs": [
    {
     "data": {
      "text/plain": [
       "(1, 480, 20)"
      ]
     },
     "execution_count": 43,
     "metadata": {},
     "output_type": "execute_result"
    }
   ],
   "source": [
    "y_train.shape"
   ]
  },
  {
   "cell_type": "code",
   "execution_count": 44,
   "metadata": {
    "collapsed": true
   },
   "outputs": [],
   "source": [
    "df_test = pd.read_csv('test_data.csv')\n",
    "feature_column_name_test = ['1', '2', '3', '4', '5','6','7','8','9','10','11','12','13']\n",
    "predicted_class_name_test = ['class']\n",
    "X_test = df_test[feature_column_name_test].values\n",
    "#y_test = df_test[predicted_class_name_test].values"
   ]
  },
  {
   "cell_type": "code",
   "execution_count": 45,
   "metadata": {
    "collapsed": true
   },
   "outputs": [],
   "source": [
    "y_test_flatten = []\n",
    "i=0\n",
    "for j in range(0, 120):\n",
    "    y_test_flatten.append(i)\n",
    "    if len(y_test_flatten)%6 == 0:\n",
    "        i=i+1"
   ]
  },
  {
   "cell_type": "code",
   "execution_count": 46,
   "metadata": {
    "collapsed": true
   },
   "outputs": [],
   "source": [
    "y_test = np_utils.to_categorical(y_test_flatten) "
   ]
  },
  {
   "cell_type": "code",
   "execution_count": 47,
   "metadata": {
    "collapsed": true
   },
   "outputs": [],
   "source": [
    "X_test = X_test.reshape(1, 120, 845)\n",
    "y_test = y_test.reshape(1, 120, 20)"
   ]
  },
  {
   "cell_type": "code",
   "execution_count": 48,
   "metadata": {},
   "outputs": [
    {
     "data": {
      "text/plain": [
       "(1, 120, 20)"
      ]
     },
     "execution_count": 48,
     "metadata": {},
     "output_type": "execute_result"
    }
   ],
   "source": [
    "y_test.shape"
   ]
  },
  {
   "cell_type": "code",
   "execution_count": 141,
   "metadata": {
    "collapsed": true
   },
   "outputs": [],
   "source": [
    "cnn_model_1d = Sequential()\n",
    "cnn_model_1d.add(Conv1D(input_shape=(480, 845), kernel_size=1, filters=5))\n",
    "cnn_model_1d.add(MaxPooling1D(1))\n",
    "#cnn_model_1d.add(Flatten())\n",
    "cnn_model_1d.add(Dense(num_classes))\n",
    "cnn_model_1d.add(Activation('softmax'))"
   ]
  },
  {
   "cell_type": "code",
   "execution_count": 142,
   "metadata": {},
   "outputs": [
    {
     "data": {
      "text/plain": [
       "(1, 480, 845)"
      ]
     },
     "execution_count": 142,
     "metadata": {},
     "output_type": "execute_result"
    }
   ],
   "source": [
    "cnn_model_1d.compile(loss='categorical_crossentropy', optimizer='adam', metrics=['accuracy'])\n",
    "X_train.shape"
   ]
  },
  {
   "cell_type": "code",
   "execution_count": 143,
   "metadata": {},
   "outputs": [
    {
     "name": "stdout",
     "output_type": "stream",
     "text": [
      "Epoch 1/10\n",
      "1/1 [==============================] - 1s - loss: 13.1297 - acc: 0.0375\n",
      "Epoch 2/10\n",
      "1/1 [==============================] - 0s - loss: 12.4277 - acc: 0.0563\n",
      "Epoch 3/10\n",
      "1/1 [==============================] - 0s - loss: 11.9568 - acc: 0.0688\n",
      "Epoch 4/10\n",
      "1/1 [==============================] - 0s - loss: 11.6577 - acc: 0.0625\n",
      "Epoch 5/10\n",
      "1/1 [==============================] - 0s - loss: 11.3263 - acc: 0.0646\n",
      "Epoch 6/10\n",
      "1/1 [==============================] - 0s - loss: 11.0560 - acc: 0.0583\n",
      "Epoch 7/10\n",
      "1/1 [==============================] - 0s - loss: 10.7796 - acc: 0.0604\n",
      "Epoch 8/10\n",
      "1/1 [==============================] - 0s - loss: 10.3762 - acc: 0.0708\n",
      "Epoch 9/10\n",
      "1/1 [==============================] - 0s - loss: 9.8967 - acc: 0.0938\n",
      "Epoch 10/10\n",
      "1/1 [==============================] - 0s - loss: 9.5577 - acc: 0.0979\n"
     ]
    },
    {
     "data": {
      "text/plain": [
       "<keras.callbacks.History at 0x25692b19e48>"
      ]
     },
     "execution_count": 143,
     "metadata": {},
     "output_type": "execute_result"
    }
   ],
   "source": [
    "cnn_model_1d.fit(X_train, y_train)"
   ]
  },
  {
   "cell_type": "code",
   "execution_count": 144,
   "metadata": {},
   "outputs": [
    {
     "name": "stdout",
     "output_type": "stream",
     "text": [
      "11.0416673124%\n"
     ]
    }
   ],
   "source": [
    "losses, accuracy = cnn_model_1d.evaluate(X_train, y_train, verbose=2)\n",
    "print(str(accuracy*100)+'%')"
   ]
  },
  {
   "cell_type": "code",
   "execution_count": 145,
   "metadata": {},
   "outputs": [
    {
     "ename": "ValueError",
     "evalue": "Error when checking input: expected conv1d_9_input to have shape (None, 480, 845) but got array with shape (1, 120, 845)",
     "output_type": "error",
     "traceback": [
      "\u001b[1;31m---------------------------------------------------------------------------\u001b[0m",
      "\u001b[1;31mValueError\u001b[0m                                Traceback (most recent call last)",
      "\u001b[1;32m<ipython-input-145-11064d52c59e>\u001b[0m in \u001b[0;36m<module>\u001b[1;34m()\u001b[0m\n\u001b[1;32m----> 1\u001b[1;33m \u001b[0mlosses\u001b[0m\u001b[1;33m,\u001b[0m \u001b[0maccuracy\u001b[0m \u001b[1;33m=\u001b[0m \u001b[0mcnn_model_1d\u001b[0m\u001b[1;33m.\u001b[0m\u001b[0mevaluate\u001b[0m\u001b[1;33m(\u001b[0m\u001b[0mX_test\u001b[0m\u001b[1;33m,\u001b[0m \u001b[0my_test\u001b[0m\u001b[1;33m,\u001b[0m \u001b[0mverbose\u001b[0m\u001b[1;33m=\u001b[0m\u001b[1;36m2\u001b[0m\u001b[1;33m)\u001b[0m\u001b[1;33m\u001b[0m\u001b[0m\n\u001b[0m\u001b[0;32m      2\u001b[0m \u001b[0mprint\u001b[0m\u001b[1;33m(\u001b[0m\u001b[0mstr\u001b[0m\u001b[1;33m(\u001b[0m\u001b[0maccuracy\u001b[0m\u001b[1;33m*\u001b[0m\u001b[1;36m100\u001b[0m\u001b[1;33m)\u001b[0m\u001b[1;33m+\u001b[0m\u001b[1;34m'%'\u001b[0m\u001b[1;33m)\u001b[0m\u001b[1;33m\u001b[0m\u001b[0m\n",
      "\u001b[1;32m~\\Anaconda3\\lib\\site-packages\\keras\\models.py\u001b[0m in \u001b[0;36mevaluate\u001b[1;34m(self, x, y, batch_size, verbose, sample_weight)\u001b[0m\n\u001b[0;32m    894\u001b[0m                                    \u001b[0mbatch_size\u001b[0m\u001b[1;33m=\u001b[0m\u001b[0mbatch_size\u001b[0m\u001b[1;33m,\u001b[0m\u001b[1;33m\u001b[0m\u001b[0m\n\u001b[0;32m    895\u001b[0m                                    \u001b[0mverbose\u001b[0m\u001b[1;33m=\u001b[0m\u001b[0mverbose\u001b[0m\u001b[1;33m,\u001b[0m\u001b[1;33m\u001b[0m\u001b[0m\n\u001b[1;32m--> 896\u001b[1;33m                                    sample_weight=sample_weight)\n\u001b[0m\u001b[0;32m    897\u001b[0m \u001b[1;33m\u001b[0m\u001b[0m\n\u001b[0;32m    898\u001b[0m     \u001b[1;32mdef\u001b[0m \u001b[0mpredict\u001b[0m\u001b[1;33m(\u001b[0m\u001b[0mself\u001b[0m\u001b[1;33m,\u001b[0m \u001b[0mx\u001b[0m\u001b[1;33m,\u001b[0m \u001b[0mbatch_size\u001b[0m\u001b[1;33m=\u001b[0m\u001b[1;36m32\u001b[0m\u001b[1;33m,\u001b[0m \u001b[0mverbose\u001b[0m\u001b[1;33m=\u001b[0m\u001b[1;36m0\u001b[0m\u001b[1;33m)\u001b[0m\u001b[1;33m:\u001b[0m\u001b[1;33m\u001b[0m\u001b[0m\n",
      "\u001b[1;32m~\\Anaconda3\\lib\\site-packages\\keras\\engine\\training.py\u001b[0m in \u001b[0;36mevaluate\u001b[1;34m(self, x, y, batch_size, verbose, sample_weight, steps)\u001b[0m\n\u001b[0;32m   1644\u001b[0m             \u001b[0msample_weight\u001b[0m\u001b[1;33m=\u001b[0m\u001b[0msample_weight\u001b[0m\u001b[1;33m,\u001b[0m\u001b[1;33m\u001b[0m\u001b[0m\n\u001b[0;32m   1645\u001b[0m             \u001b[0mcheck_batch_axis\u001b[0m\u001b[1;33m=\u001b[0m\u001b[1;32mFalse\u001b[0m\u001b[1;33m,\u001b[0m\u001b[1;33m\u001b[0m\u001b[0m\n\u001b[1;32m-> 1646\u001b[1;33m             batch_size=batch_size)\n\u001b[0m\u001b[0;32m   1647\u001b[0m         \u001b[1;31m# Prepare inputs, delegate logic to `_test_loop`.\u001b[0m\u001b[1;33m\u001b[0m\u001b[1;33m\u001b[0m\u001b[0m\n\u001b[0;32m   1648\u001b[0m         \u001b[1;32mif\u001b[0m \u001b[0mself\u001b[0m\u001b[1;33m.\u001b[0m\u001b[0muses_learning_phase\u001b[0m \u001b[1;32mand\u001b[0m \u001b[1;32mnot\u001b[0m \u001b[0misinstance\u001b[0m\u001b[1;33m(\u001b[0m\u001b[0mK\u001b[0m\u001b[1;33m.\u001b[0m\u001b[0mlearning_phase\u001b[0m\u001b[1;33m(\u001b[0m\u001b[1;33m)\u001b[0m\u001b[1;33m,\u001b[0m \u001b[0mint\u001b[0m\u001b[1;33m)\u001b[0m\u001b[1;33m:\u001b[0m\u001b[1;33m\u001b[0m\u001b[0m\n",
      "\u001b[1;32m~\\Anaconda3\\lib\\site-packages\\keras\\engine\\training.py\u001b[0m in \u001b[0;36m_standardize_user_data\u001b[1;34m(self, x, y, sample_weight, class_weight, check_batch_axis, batch_size)\u001b[0m\n\u001b[0;32m   1376\u001b[0m                                     \u001b[0mself\u001b[0m\u001b[1;33m.\u001b[0m\u001b[0m_feed_input_shapes\u001b[0m\u001b[1;33m,\u001b[0m\u001b[1;33m\u001b[0m\u001b[0m\n\u001b[0;32m   1377\u001b[0m                                     \u001b[0mcheck_batch_axis\u001b[0m\u001b[1;33m=\u001b[0m\u001b[1;32mFalse\u001b[0m\u001b[1;33m,\u001b[0m\u001b[1;33m\u001b[0m\u001b[0m\n\u001b[1;32m-> 1378\u001b[1;33m                                     exception_prefix='input')\n\u001b[0m\u001b[0;32m   1379\u001b[0m         y = _standardize_input_data(y, self._feed_output_names,\n\u001b[0;32m   1380\u001b[0m                                     \u001b[0moutput_shapes\u001b[0m\u001b[1;33m,\u001b[0m\u001b[1;33m\u001b[0m\u001b[0m\n",
      "\u001b[1;32m~\\Anaconda3\\lib\\site-packages\\keras\\engine\\training.py\u001b[0m in \u001b[0;36m_standardize_input_data\u001b[1;34m(data, names, shapes, check_batch_axis, exception_prefix)\u001b[0m\n\u001b[0;32m    142\u001b[0m                             \u001b[1;34m' to have shape '\u001b[0m \u001b[1;33m+\u001b[0m \u001b[0mstr\u001b[0m\u001b[1;33m(\u001b[0m\u001b[0mshapes\u001b[0m\u001b[1;33m[\u001b[0m\u001b[0mi\u001b[0m\u001b[1;33m]\u001b[0m\u001b[1;33m)\u001b[0m \u001b[1;33m+\u001b[0m\u001b[1;33m\u001b[0m\u001b[0m\n\u001b[0;32m    143\u001b[0m                             \u001b[1;34m' but got array with shape '\u001b[0m \u001b[1;33m+\u001b[0m\u001b[1;33m\u001b[0m\u001b[0m\n\u001b[1;32m--> 144\u001b[1;33m                             str(array.shape))\n\u001b[0m\u001b[0;32m    145\u001b[0m     \u001b[1;32mreturn\u001b[0m \u001b[0marrays\u001b[0m\u001b[1;33m\u001b[0m\u001b[0m\n\u001b[0;32m    146\u001b[0m \u001b[1;33m\u001b[0m\u001b[0m\n",
      "\u001b[1;31mValueError\u001b[0m: Error when checking input: expected conv1d_9_input to have shape (None, 480, 845) but got array with shape (1, 120, 845)"
     ]
    }
   ],
   "source": [
    "losses, accuracy = cnn_model_1d.evaluate(X_test, y_test, verbose=2)\n",
    "print(str(accuracy*100)+'%')"
   ]
  },
  {
   "cell_type": "code",
   "execution_count": 56,
   "metadata": {},
   "outputs": [
    {
     "name": "stdout",
     "output_type": "stream",
     "text": [
      "Epoch 1/10\n",
      "1/1 [==============================] - 0s - loss: 0.3518\n",
      "Epoch 2/10\n",
      "1/1 [==============================] - 0s - loss: 0.3359\n",
      "Epoch 3/10\n",
      "1/1 [==============================] - 0s - loss: 0.3024\n",
      "Epoch 4/10\n",
      "1/1 [==============================] - 0s - loss: 0.2012\n",
      "Epoch 5/10\n",
      "1/1 [==============================] - 0s - loss: 0.1300\n",
      "Epoch 6/10\n",
      "1/1 [==============================] - 0s - loss: 0.0664\n",
      "Epoch 7/10\n",
      "1/1 [==============================] - 0s - loss: 0.0348\n",
      "Epoch 8/10\n",
      "1/1 [==============================] - 0s - loss: 0.0163\n",
      "Epoch 9/10\n",
      "1/1 [==============================] - 0s - loss: 0.0079\n",
      "Epoch 10/10\n",
      "1/1 [==============================] - 0s - loss: 0.0036\n"
     ]
    },
    {
     "data": {
      "text/plain": [
       "<keras.callbacks.History at 0x2178c0a9198>"
      ]
     },
     "execution_count": 56,
     "metadata": {},
     "output_type": "execute_result"
    }
   ],
   "source": [
    "x_test=np.random.random_sample((1,100,5))\n",
    "x_test\n",
    "y_test=np.random.randint(2,size=1) # target for 1 sample\n",
    "\n",
    "model = Sequential()\n",
    "model.add(Conv1D(input_shape=(100,5),kernel_size=2,filters=1)) # 100 timesteps of 5 features each\n",
    "model.add(Flatten())\n",
    "model.add(Dense(1))\n",
    "model.compile(optimizer='sgd', loss='mse')\n",
    "model.fit(x_test,y_test)"
   ]
  },
  {
   "cell_type": "code",
   "execution_count": null,
   "metadata": {
    "collapsed": true
   },
   "outputs": [],
   "source": []
  }
 ],
 "metadata": {
  "kernelspec": {
   "display_name": "Python 3",
   "language": "python",
   "name": "python3"
  },
  "language_info": {
   "codemirror_mode": {
    "name": "ipython",
    "version": 3
   },
   "file_extension": ".py",
   "mimetype": "text/x-python",
   "name": "python",
   "nbconvert_exporter": "python",
   "pygments_lexer": "ipython3",
   "version": "3.6.4"
  }
 },
 "nbformat": 4,
 "nbformat_minor": 2
}
